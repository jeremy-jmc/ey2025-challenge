{
 "cells": [
  {
   "cell_type": "code",
   "execution_count": null,
   "metadata": {},
   "outputs": [],
   "source": [
    "import sys\n",
    "sys.path.append('..')\n",
    "\n",
    "from baseline.utilities import *\n",
    "from xgboost import XGBRegressor\n",
    "from sklearn.model_selection import GridSearchCV\n",
    "from sklearn.ensemble import ExtraTreesRegressor\n",
    "\n",
    "\n",
    "TARGET = 'UHI Index'\n",
    "X = pd.read_parquet('../pipeline/data/processed/train/X_selected.parquet')\n",
    "y = pd.read_parquet('../pipeline/data/processed/train/y_selected.parquet')[TARGET]\n",
    "\n",
    "X_train, X_test, y_train, y_test = train_test_split(X, y, test_size=0.01, \n",
    "                                                    shuffle=True, \n",
    "                                                    random_state=SEED,\n",
    "                                                    )\n",
    "\n",
    "sc = StandardScaler()\n",
    "X_train = sc.fit_transform(X_train)\n",
    "X_test = sc.transform(X_test)\n",
    "\n",
    "print(f\"{X_train.shape=}\")\n",
    "print(f\"{X_test.shape=}\")\n",
    "\n",
    "import warnings\n",
    "warnings.filterwarnings('ignore')"
   ]
  },
  {
   "cell_type": "code",
   "execution_count": null,
   "metadata": {},
   "outputs": [
    {
     "name": "stdout",
     "output_type": "stream",
     "text": [
      "Best parameters: {'colsample_bytree': 0.5, 'learning_rate': 0.1, 'max_depth': 20, 'n_estimators': 200, 'subsample': 0.7}\n"
     ]
    }
   ],
   "source": [
    "# -----------------------------------------------------------------------------\n",
    "# Hyperparameter tuning XGBoost\n",
    "# -----------------------------------------------------------------------------\n",
    "\n",
    "xgb_param_grid = {\n",
    "    'n_estimators': [50, 100, 150, 200],\n",
    "    'max_depth': [None, 5, 7, 9, 20],\n",
    "    'learning_rate': [0.01, 0.1, 0.3],\n",
    "    'subsample': [0.5, 0.7, 1],\n",
    "    'colsample_bytree': [0.5, 0.7, 1],\n",
    "    # 'gamma': [0, 0.1, 0.2],\n",
    "}\n",
    "\n",
    "grid_search_xgb = GridSearchCV(\n",
    "    estimator=XGBRegressor(random_state=SEED),\n",
    "    param_grid=xgb_param_grid,\n",
    "    cv=10,\n",
    "    scoring='r2',\n",
    "    n_jobs=-1,\n",
    "    verbose=2\n",
    ")\n",
    "grid_search_xgb.fit(X_train, y_train)\n",
    "\n",
    "# print(f\"Best R² score: {grid_search_xgb.best_score_:.4f}\")\n",
    "print(f\"Best parameters: {grid_search_xgb.best_params_}\")\n",
    "\n",
    "# xgb_model = grid_search_xgb.best_estimator_\n",
    "# with open('./models/xgb_model.pkl', 'wb') as xgb_file:\n",
    "#     pickle.dump(xgb_model, xgb_file)"
   ]
  },
  {
   "cell_type": "code",
   "execution_count": null,
   "metadata": {},
   "outputs": [
    {
     "name": "stdout",
     "output_type": "stream",
     "text": [
      "Best parameters: {'bootstrap': False, 'max_depth': None, 'max_features': None, 'min_samples_leaf': 1, 'min_samples_split': 2, 'n_estimators': 200}\n"
     ]
    }
   ],
   "source": [
    "# -----------------------------------------------------------------------------\n",
    "# Hyperparameter tuning ExtraTrees\n",
    "# -----------------------------------------------------------------------------\n",
    "\n",
    "extratrees_param_grid = {\n",
    "    'n_estimators': [50, 100, 150, 200],\n",
    "    'max_depth': [None, 8, 10, 20],\n",
    "    'min_samples_split': [2, 5, 10],\n",
    "    'min_samples_leaf': [1, 2, 4],\n",
    "    'bootstrap': [True, False],\n",
    "    'max_features': ['log2', 'sqrt', None],\n",
    "    # 'bootstrap': [True, False]\n",
    "}\n",
    "\n",
    "grid_search_extratrees = GridSearchCV(\n",
    "    estimator=ExtraTreesRegressor(random_state=SEED),\n",
    "    param_grid=extratrees_param_grid,\n",
    "    cv=10,\n",
    "    scoring='r2',\n",
    "    n_jobs=-1,\n",
    "    verbose=2\n",
    ")\n",
    "grid_search_extratrees.fit(X_train, y_train)\n",
    "\n",
    "# print(f\"Best R² score: {grid_search_extratrees.best_score_:.4f}\")\n",
    "print(f\"Best parameters: {grid_search_extratrees.best_params_}\")\n",
    "\n",
    "# extratrees_model = grid_search_extratrees.best_estimator_\n",
    "# with open('./models/extratrees_model.pkl', 'wb') as extratrees_file:\n",
    "#     pickle.dump(extratrees_model, extratrees_file)"
   ]
  }
 ],
 "metadata": {
  "kernelspec": {
   "display_name": "Python 3",
   "language": "python",
   "name": "python3"
  },
  "language_info": {
   "codemirror_mode": {
    "name": "ipython",
    "version": 3
   },
   "file_extension": ".py",
   "mimetype": "text/x-python",
   "name": "python",
   "nbconvert_exporter": "python",
   "pygments_lexer": "ipython3",
   "version": "3.10.12"
  }
 },
 "nbformat": 4,
 "nbformat_minor": 2
}
