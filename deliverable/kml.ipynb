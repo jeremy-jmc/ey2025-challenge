{
 "cells": [
  {
   "cell_type": "code",
   "execution_count": 4,
   "metadata": {},
   "outputs": [
    {
     "name": "stdout",
     "output_type": "stream",
     "text": [
      "Collecting fastkml\n",
      "  Downloading fastkml-1.1.0-py3-none-any.whl.metadata (8.0 kB)\n",
      "Requirement already satisfied: GDAL in /Library/Frameworks/Python.framework/Versions/3.10/lib/python3.10/site-packages (3.10.2)\n",
      "Requirement already satisfied: geopandas in /Library/Frameworks/Python.framework/Versions/3.10/lib/python3.10/site-packages (1.0.1)\n",
      "Collecting fiona\n",
      "  Downloading fiona-1.10.1-cp310-cp310-macosx_11_0_arm64.whl.metadata (56 kB)\n",
      "Requirement already satisfied: pandarallel in /Library/Frameworks/Python.framework/Versions/3.10/lib/python3.10/site-packages (1.6.5)\n",
      "Requirement already satisfied: tqdm in /Library/Frameworks/Python.framework/Versions/3.10/lib/python3.10/site-packages (4.67.1)\n",
      "Requirement already satisfied: arrow in /Library/Frameworks/Python.framework/Versions/3.10/lib/python3.10/site-packages (from fastkml) (1.3.0)\n",
      "Collecting pygeoif>=1.5 (from fastkml)\n",
      "  Downloading pygeoif-1.5.1-py3-none-any.whl.metadata (14 kB)\n",
      "Requirement already satisfied: typing-extensions>4 in /Users/ValDLaw/Library/Python/3.10/lib/python/site-packages (from fastkml) (4.12.2)\n",
      "Requirement already satisfied: numpy>=1.22 in /Library/Frameworks/Python.framework/Versions/3.10/lib/python3.10/site-packages (from geopandas) (1.26.4)\n",
      "Requirement already satisfied: pyogrio>=0.7.2 in /Library/Frameworks/Python.framework/Versions/3.10/lib/python3.10/site-packages (from geopandas) (0.10.0)\n",
      "Requirement already satisfied: packaging in /Users/ValDLaw/Library/Python/3.10/lib/python/site-packages (from geopandas) (24.2)\n",
      "Requirement already satisfied: pandas>=1.4.0 in /Library/Frameworks/Python.framework/Versions/3.10/lib/python3.10/site-packages (from geopandas) (2.1.4)\n",
      "Requirement already satisfied: pyproj>=3.3.0 in /Library/Frameworks/Python.framework/Versions/3.10/lib/python3.10/site-packages (from geopandas) (3.7.0)\n",
      "Requirement already satisfied: shapely>=2.0.0 in /Library/Frameworks/Python.framework/Versions/3.10/lib/python3.10/site-packages (from geopandas) (2.0.7)\n",
      "Requirement already satisfied: attrs>=19.2.0 in /Library/Frameworks/Python.framework/Versions/3.10/lib/python3.10/site-packages (from fiona) (25.1.0)\n",
      "Requirement already satisfied: certifi in /Library/Frameworks/Python.framework/Versions/3.10/lib/python3.10/site-packages (from fiona) (2025.1.31)\n",
      "Requirement already satisfied: click~=8.0 in /Library/Frameworks/Python.framework/Versions/3.10/lib/python3.10/site-packages (from fiona) (8.1.8)\n",
      "Requirement already satisfied: click-plugins>=1.0 in /Library/Frameworks/Python.framework/Versions/3.10/lib/python3.10/site-packages (from fiona) (1.1.1)\n",
      "Requirement already satisfied: cligj>=0.5 in /Library/Frameworks/Python.framework/Versions/3.10/lib/python3.10/site-packages (from fiona) (0.7.2)\n",
      "Requirement already satisfied: dill>=0.3.1 in /Library/Frameworks/Python.framework/Versions/3.10/lib/python3.10/site-packages (from pandarallel) (0.3.9)\n",
      "Requirement already satisfied: psutil in /Users/ValDLaw/Library/Python/3.10/lib/python/site-packages (from pandarallel) (6.1.1)\n",
      "Requirement already satisfied: python-dateutil>=2.8.2 in /Users/ValDLaw/Library/Python/3.10/lib/python/site-packages (from pandas>=1.4.0->geopandas) (2.9.0.post0)\n",
      "Requirement already satisfied: pytz>=2020.1 in /Library/Frameworks/Python.framework/Versions/3.10/lib/python3.10/site-packages (from pandas>=1.4.0->geopandas) (2025.1)\n",
      "Requirement already satisfied: tzdata>=2022.1 in /Library/Frameworks/Python.framework/Versions/3.10/lib/python3.10/site-packages (from pandas>=1.4.0->geopandas) (2025.1)\n",
      "Requirement already satisfied: types-python-dateutil>=2.8.10 in /Library/Frameworks/Python.framework/Versions/3.10/lib/python3.10/site-packages (from arrow->fastkml) (2.9.0.20241206)\n",
      "Requirement already satisfied: six>=1.5 in /Users/ValDLaw/Library/Python/3.10/lib/python/site-packages (from python-dateutil>=2.8.2->pandas>=1.4.0->geopandas) (1.17.0)\n",
      "Downloading fastkml-1.1.0-py3-none-any.whl (107 kB)\n",
      "Downloading fiona-1.10.1-cp310-cp310-macosx_11_0_arm64.whl (14.8 MB)\n",
      "\u001b[2K   \u001b[90m━━━━━━━━━━━━━━━━━━━━━━━━━━━━━━━━━━━━━━━━\u001b[0m \u001b[32m14.8/14.8 MB\u001b[0m \u001b[31m19.3 MB/s\u001b[0m eta \u001b[36m0:00:00\u001b[0ma \u001b[36m0:00:01\u001b[0m\n",
      "\u001b[?25hDownloading pygeoif-1.5.1-py3-none-any.whl (28 kB)\n",
      "Installing collected packages: pygeoif, fiona, fastkml\n",
      "Successfully installed fastkml-1.1.0 fiona-1.10.1 pygeoif-1.5.1\n"
     ]
    }
   ],
   "source": [
    "!python3.10 -m pip install fastkml GDAL geopandas fiona pandarallel tqdm"
   ]
  },
  {
   "cell_type": "code",
   "execution_count": 5,
   "metadata": {},
   "outputs": [
    {
     "name": "stdout",
     "output_type": "stream",
     "text": [
      "INFO: Pandarallel will run on 8 workers.\n",
      "INFO: Pandarallel will use standard multiprocessing data transfer (pipe) to transfer data between the main process and workers.\n"
     ]
    }
   ],
   "source": [
    "# -----------------------------------------------------------------------------\n",
    "# Initialization: Configure parallel processing\n",
    "# -----------------------------------------------------------------------------\n",
    "\n",
    "import sys\n",
    "sys.path.append('..')\n",
    "\n",
    "from baseline.utilities import *\n",
    "\n",
    "import numpy as np\n",
    "import pandas as pd\n",
    "import geopandas as gpd\n",
    "from shapely.ops import unary_union\n",
    "import fiona\n",
    "import json\n",
    "from tqdm import tqdm\n",
    "from pandarallel import pandarallel\n",
    "\n",
    "pandarallel.initialize(progress_bar=False, nb_workers=8)\n",
    "\n",
    "fiona.drvsupport.supported_drivers['libkml'] = 'rw'\n",
    "fiona.drvsupport.supported_drivers['LIBKML'] = 'rw'\n",
    "\n",
    "kml_path = '../baseline/Building_Footprint.kml'\n",
    "\n",
    "# Modo de ejecución: 'submission' o 'train'\n",
    "MODE = 'train'"
   ]
  },
  {
   "cell_type": "code",
   "execution_count": 6,
   "metadata": {},
   "outputs": [
    {
     "name": "stdout",
     "output_type": "stream",
     "text": [
      "Index(['Name', 'Description', 'geometry'], dtype='object')\n",
      "bld_footprint.shape=(9436, 1)\n"
     ]
    },
    {
     "data": {
      "text/html": [
       "<div>\n",
       "<style scoped>\n",
       "    .dataframe tbody tr th:only-of-type {\n",
       "        vertical-align: middle;\n",
       "    }\n",
       "\n",
       "    .dataframe tbody tr th {\n",
       "        vertical-align: top;\n",
       "    }\n",
       "\n",
       "    .dataframe thead th {\n",
       "        text-align: right;\n",
       "    }\n",
       "</style>\n",
       "<table border=\"1\" class=\"dataframe\">\n",
       "  <thead>\n",
       "    <tr style=\"text-align: right;\">\n",
       "      <th></th>\n",
       "      <th>geometry</th>\n",
       "    </tr>\n",
       "  </thead>\n",
       "  <tbody>\n",
       "    <tr>\n",
       "      <th>0</th>\n",
       "      <td>MULTIPOLYGON (((-73.91903 40.8482, -73.91933 4...</td>\n",
       "    </tr>\n",
       "    <tr>\n",
       "      <th>1</th>\n",
       "      <td>MULTIPOLYGON (((-73.92195 40.84963, -73.92191 ...</td>\n",
       "    </tr>\n",
       "    <tr>\n",
       "      <th>2</th>\n",
       "      <td>MULTIPOLYGON (((-73.9205 40.85011, -73.92045 4...</td>\n",
       "    </tr>\n",
       "    <tr>\n",
       "      <th>3</th>\n",
       "      <td>MULTIPOLYGON (((-73.92056 40.8514, -73.92053 4...</td>\n",
       "    </tr>\n",
       "    <tr>\n",
       "      <th>4</th>\n",
       "      <td>MULTIPOLYGON (((-73.91234 40.85218, -73.91247 ...</td>\n",
       "    </tr>\n",
       "    <tr>\n",
       "      <th>...</th>\n",
       "      <td>...</td>\n",
       "    </tr>\n",
       "    <tr>\n",
       "      <th>9431</th>\n",
       "      <td>MULTIPOLYGON (((-73.95267 40.77923, -73.95254 ...</td>\n",
       "    </tr>\n",
       "    <tr>\n",
       "      <th>9432</th>\n",
       "      <td>MULTIPOLYGON (((-73.94964 40.77613, -73.94931 ...</td>\n",
       "    </tr>\n",
       "    <tr>\n",
       "      <th>9433</th>\n",
       "      <td>MULTIPOLYGON (((-73.9521 40.7688, -73.95174 40...</td>\n",
       "    </tr>\n",
       "    <tr>\n",
       "      <th>9434</th>\n",
       "      <td>MULTIPOLYGON (((-73.9523 40.75904, -73.95246 4...</td>\n",
       "    </tr>\n",
       "    <tr>\n",
       "      <th>9435</th>\n",
       "      <td>MULTIPOLYGON (((-73.95579 40.76314, -73.95602 ...</td>\n",
       "    </tr>\n",
       "  </tbody>\n",
       "</table>\n",
       "<p>9436 rows × 1 columns</p>\n",
       "</div>"
      ],
      "text/plain": [
       "                                               geometry\n",
       "0     MULTIPOLYGON (((-73.91903 40.8482, -73.91933 4...\n",
       "1     MULTIPOLYGON (((-73.92195 40.84963, -73.92191 ...\n",
       "2     MULTIPOLYGON (((-73.9205 40.85011, -73.92045 4...\n",
       "3     MULTIPOLYGON (((-73.92056 40.8514, -73.92053 4...\n",
       "4     MULTIPOLYGON (((-73.91234 40.85218, -73.91247 ...\n",
       "...                                                 ...\n",
       "9431  MULTIPOLYGON (((-73.95267 40.77923, -73.95254 ...\n",
       "9432  MULTIPOLYGON (((-73.94964 40.77613, -73.94931 ...\n",
       "9433  MULTIPOLYGON (((-73.9521 40.7688, -73.95174 40...\n",
       "9434  MULTIPOLYGON (((-73.9523 40.75904, -73.95246 4...\n",
       "9435  MULTIPOLYGON (((-73.95579 40.76314, -73.95602 ...\n",
       "\n",
       "[9436 rows x 1 columns]"
      ]
     },
     "metadata": {},
     "output_type": "display_data"
    },
    {
     "name": "stdout",
     "output_type": "stream",
     "text": [
      "EPSG:4326\n"
     ]
    }
   ],
   "source": [
    "# -----------------------------------------------------------------------------\n",
    "# Load KML File: Read building footprints and clean data\n",
    "# -----------------------------------------------------------------------------\n",
    "\n",
    "bld_footprint = gpd.read_file(kml_path, driver='libkml').replace('', np.nan)\n",
    "\n",
    "print(bld_footprint.columns)\n",
    "\n",
    "bld_footprint = bld_footprint.dropna(axis=1, how='all')\n",
    "\n",
    "print(f\"{bld_footprint.shape=}\")\n",
    "display(bld_footprint)\n",
    "\n",
    "print(bld_footprint.crs)\n"
   ]
  },
  {
   "cell_type": "code",
   "execution_count": 9,
   "metadata": {},
   "outputs": [],
   "source": [
    "# -----------------------------------------------------------------------------\n",
    "# Process Geometries: Convert to single polygons and compute areas\n",
    "# -----------------------------------------------------------------------------\n",
    "\n",
    "bld_footprint['geometry'] = bld_footprint['geometry'].apply(lambda x: unary_union(x))\n",
    "\n",
    "bld_footprint = bld_footprint.to_crs(epsg=3395)\n",
    "\n",
    "bld_footprint['area'] = bld_footprint['geometry'].area\n",
    "\n",
    "bld_footprint = bld_footprint.to_crs(epsg=4326)\n",
    "\n",
    "# bld_footprint.to_file('../pipeline/data/other/bf.json', driver='GeoJSON')\n",
    "\n",
    "bbox = bld_footprint.total_bounds"
   ]
  },
  {
   "cell_type": "code",
   "execution_count": 10,
   "metadata": {},
   "outputs": [
    {
     "ename": "DataSourceError",
     "evalue": "../baseline/BUILDING_view_-5690770882456580009.geojson: No such file or directory",
     "output_type": "error",
     "traceback": [
      "\u001b[0;31m---------------------------------------------------------------------------\u001b[0m",
      "\u001b[0;31mDataSourceError\u001b[0m                           Traceback (most recent call last)",
      "Cell \u001b[0;32mIn[10], line 5\u001b[0m\n\u001b[1;32m      1\u001b[0m \u001b[39m# -----------------------------------------------------------------------------\u001b[39;00m\n\u001b[1;32m      2\u001b[0m \u001b[39m# Load External NYC Buildings Data\u001b[39;00m\n\u001b[1;32m      3\u001b[0m \u001b[39m# -----------------------------------------------------------------------------\u001b[39;00m\n\u001b[0;32m----> 5\u001b[0m bv \u001b[39m=\u001b[39m gpd\u001b[39m.\u001b[39;49mread_file(\u001b[39m'\u001b[39;49m\u001b[39m../baseline/BUILDING_view_-5690770882456580009.geojson\u001b[39;49m\u001b[39m'\u001b[39;49m)\n\u001b[1;32m      7\u001b[0m bv \u001b[39m=\u001b[39m bv\u001b[39m.\u001b[39mto_crs(epsg\u001b[39m=\u001b[39m\u001b[39m3395\u001b[39m)\n\u001b[1;32m      9\u001b[0m bv[\u001b[39m'\u001b[39m\u001b[39marea\u001b[39m\u001b[39m'\u001b[39m] \u001b[39m=\u001b[39m bv[\u001b[39m'\u001b[39m\u001b[39mgeometry\u001b[39m\u001b[39m'\u001b[39m]\u001b[39m.\u001b[39marea\n",
      "File \u001b[0;32m/Library/Frameworks/Python.framework/Versions/3.10/lib/python3.10/site-packages/geopandas/io/file.py:294\u001b[0m, in \u001b[0;36m_read_file\u001b[0;34m(filename, bbox, mask, columns, rows, engine, **kwargs)\u001b[0m\n\u001b[1;32m    291\u001b[0m             from_bytes \u001b[39m=\u001b[39m \u001b[39mTrue\u001b[39;00m\n\u001b[1;32m    293\u001b[0m \u001b[39mif\u001b[39;00m engine \u001b[39m==\u001b[39m \u001b[39m\"\u001b[39m\u001b[39mpyogrio\u001b[39m\u001b[39m\"\u001b[39m:\n\u001b[0;32m--> 294\u001b[0m     \u001b[39mreturn\u001b[39;00m _read_file_pyogrio(\n\u001b[1;32m    295\u001b[0m         filename, bbox\u001b[39m=\u001b[39;49mbbox, mask\u001b[39m=\u001b[39;49mmask, columns\u001b[39m=\u001b[39;49mcolumns, rows\u001b[39m=\u001b[39;49mrows, \u001b[39m*\u001b[39;49m\u001b[39m*\u001b[39;49mkwargs\n\u001b[1;32m    296\u001b[0m     )\n\u001b[1;32m    298\u001b[0m \u001b[39melif\u001b[39;00m engine \u001b[39m==\u001b[39m \u001b[39m\"\u001b[39m\u001b[39mfiona\u001b[39m\u001b[39m\"\u001b[39m:\n\u001b[1;32m    299\u001b[0m     \u001b[39mif\u001b[39;00m pd\u001b[39m.\u001b[39mapi\u001b[39m.\u001b[39mtypes\u001b[39m.\u001b[39mis_file_like(filename):\n",
      "File \u001b[0;32m/Library/Frameworks/Python.framework/Versions/3.10/lib/python3.10/site-packages/geopandas/io/file.py:547\u001b[0m, in \u001b[0;36m_read_file_pyogrio\u001b[0;34m(path_or_bytes, bbox, mask, rows, **kwargs)\u001b[0m\n\u001b[1;32m    538\u001b[0m     warnings\u001b[39m.\u001b[39mwarn(\n\u001b[1;32m    539\u001b[0m         \u001b[39m\"\u001b[39m\u001b[39mThe \u001b[39m\u001b[39m'\u001b[39m\u001b[39minclude_fields\u001b[39m\u001b[39m'\u001b[39m\u001b[39m and \u001b[39m\u001b[39m'\u001b[39m\u001b[39mignore_fields\u001b[39m\u001b[39m'\u001b[39m\u001b[39m keywords are deprecated, and \u001b[39m\u001b[39m\"\u001b[39m\n\u001b[1;32m    540\u001b[0m         \u001b[39m\"\u001b[39m\u001b[39mwill be removed in a future release. You can use the \u001b[39m\u001b[39m'\u001b[39m\u001b[39mcolumns\u001b[39m\u001b[39m'\u001b[39m\u001b[39m keyword \u001b[39m\u001b[39m\"\u001b[39m\n\u001b[0;32m   (...)\u001b[0m\n\u001b[1;32m    543\u001b[0m         stacklevel\u001b[39m=\u001b[39m\u001b[39m3\u001b[39m,\n\u001b[1;32m    544\u001b[0m     )\n\u001b[1;32m    545\u001b[0m     kwargs[\u001b[39m\"\u001b[39m\u001b[39mcolumns\u001b[39m\u001b[39m\"\u001b[39m] \u001b[39m=\u001b[39m kwargs\u001b[39m.\u001b[39mpop(\u001b[39m\"\u001b[39m\u001b[39minclude_fields\u001b[39m\u001b[39m\"\u001b[39m)\n\u001b[0;32m--> 547\u001b[0m \u001b[39mreturn\u001b[39;00m pyogrio\u001b[39m.\u001b[39;49mread_dataframe(path_or_bytes, bbox\u001b[39m=\u001b[39;49mbbox, \u001b[39m*\u001b[39;49m\u001b[39m*\u001b[39;49mkwargs)\n",
      "File \u001b[0;32m/Library/Frameworks/Python.framework/Versions/3.10/lib/python3.10/site-packages/pyogrio/geopandas.py:265\u001b[0m, in \u001b[0;36mread_dataframe\u001b[0;34m(path_or_buffer, layer, encoding, columns, read_geometry, force_2d, skip_features, max_features, where, bbox, mask, fids, sql, sql_dialect, fid_as_index, use_arrow, on_invalid, arrow_to_pandas_kwargs, **kwargs)\u001b[0m\n\u001b[1;32m    260\u001b[0m \u001b[39mif\u001b[39;00m \u001b[39mnot\u001b[39;00m use_arrow:\n\u001b[1;32m    261\u001b[0m     \u001b[39m# For arrow, datetimes are read as is.\u001b[39;00m\n\u001b[1;32m    262\u001b[0m     \u001b[39m# For numpy IO, datetimes are read as string values to preserve timezone info\u001b[39;00m\n\u001b[1;32m    263\u001b[0m     \u001b[39m# as numpy does not directly support timezones.\u001b[39;00m\n\u001b[1;32m    264\u001b[0m     kwargs[\u001b[39m\"\u001b[39m\u001b[39mdatetime_as_string\u001b[39m\u001b[39m\"\u001b[39m] \u001b[39m=\u001b[39m \u001b[39mTrue\u001b[39;00m\n\u001b[0;32m--> 265\u001b[0m result \u001b[39m=\u001b[39m read_func(\n\u001b[1;32m    266\u001b[0m     path_or_buffer,\n\u001b[1;32m    267\u001b[0m     layer\u001b[39m=\u001b[39;49mlayer,\n\u001b[1;32m    268\u001b[0m     encoding\u001b[39m=\u001b[39;49mencoding,\n\u001b[1;32m    269\u001b[0m     columns\u001b[39m=\u001b[39;49mcolumns,\n\u001b[1;32m    270\u001b[0m     read_geometry\u001b[39m=\u001b[39;49mread_geometry,\n\u001b[1;32m    271\u001b[0m     force_2d\u001b[39m=\u001b[39;49mgdal_force_2d,\n\u001b[1;32m    272\u001b[0m     skip_features\u001b[39m=\u001b[39;49mskip_features,\n\u001b[1;32m    273\u001b[0m     max_features\u001b[39m=\u001b[39;49mmax_features,\n\u001b[1;32m    274\u001b[0m     where\u001b[39m=\u001b[39;49mwhere,\n\u001b[1;32m    275\u001b[0m     bbox\u001b[39m=\u001b[39;49mbbox,\n\u001b[1;32m    276\u001b[0m     mask\u001b[39m=\u001b[39;49mmask,\n\u001b[1;32m    277\u001b[0m     fids\u001b[39m=\u001b[39;49mfids,\n\u001b[1;32m    278\u001b[0m     sql\u001b[39m=\u001b[39;49msql,\n\u001b[1;32m    279\u001b[0m     sql_dialect\u001b[39m=\u001b[39;49msql_dialect,\n\u001b[1;32m    280\u001b[0m     return_fids\u001b[39m=\u001b[39;49mfid_as_index,\n\u001b[1;32m    281\u001b[0m     \u001b[39m*\u001b[39;49m\u001b[39m*\u001b[39;49mkwargs,\n\u001b[1;32m    282\u001b[0m )\n\u001b[1;32m    284\u001b[0m \u001b[39mif\u001b[39;00m use_arrow:\n\u001b[1;32m    285\u001b[0m     meta, table \u001b[39m=\u001b[39m result\n",
      "File \u001b[0;32m/Library/Frameworks/Python.framework/Versions/3.10/lib/python3.10/site-packages/pyogrio/raw.py:198\u001b[0m, in \u001b[0;36mread\u001b[0;34m(path_or_buffer, layer, encoding, columns, read_geometry, force_2d, skip_features, max_features, where, bbox, mask, fids, sql, sql_dialect, return_fids, datetime_as_string, **kwargs)\u001b[0m\n\u001b[1;32m     59\u001b[0m \u001b[39m\u001b[39m\u001b[39m\"\"\"Read OGR data source into numpy arrays.\u001b[39;00m\n\u001b[1;32m     60\u001b[0m \n\u001b[1;32m     61\u001b[0m \u001b[39mIMPORTANT: non-linear geometry types (e.g., MultiSurface) are converted\u001b[39;00m\n\u001b[0;32m   (...)\u001b[0m\n\u001b[1;32m    194\u001b[0m \n\u001b[1;32m    195\u001b[0m \u001b[39m\"\"\"\u001b[39;00m\n\u001b[1;32m    196\u001b[0m dataset_kwargs \u001b[39m=\u001b[39m _preprocess_options_key_value(kwargs) \u001b[39mif\u001b[39;00m kwargs \u001b[39melse\u001b[39;00m {}\n\u001b[0;32m--> 198\u001b[0m \u001b[39mreturn\u001b[39;00m ogr_read(\n\u001b[1;32m    199\u001b[0m     get_vsi_path_or_buffer(path_or_buffer),\n\u001b[1;32m    200\u001b[0m     layer\u001b[39m=\u001b[39;49mlayer,\n\u001b[1;32m    201\u001b[0m     encoding\u001b[39m=\u001b[39;49mencoding,\n\u001b[1;32m    202\u001b[0m     columns\u001b[39m=\u001b[39;49mcolumns,\n\u001b[1;32m    203\u001b[0m     read_geometry\u001b[39m=\u001b[39;49mread_geometry,\n\u001b[1;32m    204\u001b[0m     force_2d\u001b[39m=\u001b[39;49mforce_2d,\n\u001b[1;32m    205\u001b[0m     skip_features\u001b[39m=\u001b[39;49mskip_features,\n\u001b[1;32m    206\u001b[0m     max_features\u001b[39m=\u001b[39;49mmax_features \u001b[39mor\u001b[39;49;00m \u001b[39m0\u001b[39;49m,\n\u001b[1;32m    207\u001b[0m     where\u001b[39m=\u001b[39;49mwhere,\n\u001b[1;32m    208\u001b[0m     bbox\u001b[39m=\u001b[39;49mbbox,\n\u001b[1;32m    209\u001b[0m     mask\u001b[39m=\u001b[39;49m_mask_to_wkb(mask),\n\u001b[1;32m    210\u001b[0m     fids\u001b[39m=\u001b[39;49mfids,\n\u001b[1;32m    211\u001b[0m     sql\u001b[39m=\u001b[39;49msql,\n\u001b[1;32m    212\u001b[0m     sql_dialect\u001b[39m=\u001b[39;49msql_dialect,\n\u001b[1;32m    213\u001b[0m     return_fids\u001b[39m=\u001b[39;49mreturn_fids,\n\u001b[1;32m    214\u001b[0m     dataset_kwargs\u001b[39m=\u001b[39;49mdataset_kwargs,\n\u001b[1;32m    215\u001b[0m     datetime_as_string\u001b[39m=\u001b[39;49mdatetime_as_string,\n\u001b[1;32m    216\u001b[0m )\n",
      "File \u001b[0;32mpyogrio/_io.pyx:1240\u001b[0m, in \u001b[0;36mpyogrio._io.ogr_read\u001b[0;34m()\u001b[0m\n",
      "File \u001b[0;32mpyogrio/_io.pyx:220\u001b[0m, in \u001b[0;36mpyogrio._io.ogr_open\u001b[0;34m()\u001b[0m\n",
      "\u001b[0;31mDataSourceError\u001b[0m: ../baseline/BUILDING_view_-5690770882456580009.geojson: No such file or directory"
     ]
    }
   ],
   "source": [
    "# -----------------------------------------------------------------------------\n",
    "# Load External NYC Buildings Data\n",
    "# -----------------------------------------------------------------------------\n",
    "\n",
    "bv = gpd.read_file('../baseline/BUILDING_view_-5690770882456580009.geojson')\n",
    "\n",
    "bv = bv.to_crs(epsg=3395)\n",
    "\n",
    "bv['area'] = bv['geometry'].area\n",
    "bv = bv.to_crs(epsg=4326)\n",
    "\n",
    "bv = bv.cx[bbox[0]:bbox[2], bbox[1]:bbox[3]].reset_index(drop=True)\n",
    "\n",
    "bv_csv = pd.read_csv('../baseline/BUILDING_view_7607496916235021567.csv')[['DOITT ID', 'Area', 'Length']]\n",
    "\n",
    "bv = bv.join(bv_csv.set_index('DOITT ID'), on='DOITT_ID')\n",
    "\n",
    "bv = bv[['CONSTRUCTION_YEAR', 'FEATURE_CODE', 'GROUND_ELEVATION', 'HEIGHT_ROOF', \n",
    "         'LAST_EDITED_DATE', 'LAST_STATUS_TYPE', 'geometry', 'area', 'Area', 'Length']]\n",
    "\n",
    "bv = bv.loc[bv['CONSTRUCTION_YEAR'] < 2021].reset_index(drop=True)\n",
    "\n",
    "bv['height_per_squared_meter'] = bv['HEIGHT_ROOF'] / bv['area']\n",
    "\n",
    "bv = bv[bv['geometry'].apply(lambda x: bld_footprint['geometry'].intersects(x).any())].reset_index(drop=True)\n",
    "\n",
    "bv.to_file('../data/other/bv.json', driver='GeoJSON')\n"
   ]
  },
  {
   "cell_type": "code",
   "execution_count": null,
   "metadata": {},
   "outputs": [],
   "source": [
    "# -----------------------------------------------------------------------------\n",
    "# Load Training or Submission Data and Generate Buffers\n",
    "# -----------------------------------------------------------------------------\n",
    "\n",
    "if MODE == 'train':\n",
    "    ground_df = pd.read_csv('../baseline/Training_data_uhi_index.csv')\n",
    "elif MODE == 'submission':\n",
    "    ground_df = pd.read_csv(\"../baseline/Submission_template.csv\")\n",
    "else:\n",
    "    raise ValueError(\"MODE debe ser 'train' o 'submission'\")\n",
    "\n",
    "ground_df.columns = ground_df.columns.str.lower()\n",
    "\n",
    "dataset = ground_df[['longitude', 'latitude']]\n",
    "dataset['geometry'] = gpd.points_from_xy(dataset['longitude'], dataset['latitude'])\n",
    "geodataset = gpd.GeoDataFrame(dataset, crs='EPSG:4326')\n",
    "\n",
    "radius_list = json.loads(open('../pipeline/data/radius_list.json', 'r').read())['radius_list']"
   ]
  },
  {
   "cell_type": "code",
   "execution_count": null,
   "metadata": {},
   "outputs": [],
   "source": [
    "# -----------------------------------------------------------------------------\n",
    "# Spatial Analysis: Compute Intersections with Buffers\n",
    "# -----------------------------------------------------------------------------\n",
    "\n",
    "for radius_meter in tqdm(radius_list, total=len(radius_list), desc='Radius Areas'):\n",
    "    geodataset = geodataset.to_crs(epsg=3395)\n",
    "\n",
    "    geodataset[f'buffer_{radius_meter}m'] = geodataset['geometry'].buffer(radius_meter)\n",
    "    geodataset[f'buffer_{radius_meter}m_area'] = geodataset[f'buffer_{radius_meter}m'].area\n",
    "    geodataset = geodataset.to_crs(epsg=4326)\n",
    "\n",
    "    intersecting_squares = gpd.sjoin(\n",
    "        bld_footprint, \n",
    "        gpd.GeoDataFrame(geometry=geodataset[f'buffer_{radius_meter}m'], crs=bld_footprint.crs), \n",
    "        predicate=\"intersects\", how='inner'\n",
    "    ).drop_duplicates(subset=['index_right', 'geometry'])\n",
    "\n",
    "    squares_gb = intersecting_squares.groupby('index_right')['area']\n",
    "    geodataset[f\"kml_sum_areas_{radius_meter}m\"] = geodataset.index.map(squares_gb.sum()).fillna(0)\n"
   ]
  }
 ],
 "metadata": {
  "kernelspec": {
   "display_name": "Python 3",
   "language": "python",
   "name": "python3"
  },
  "language_info": {
   "codemirror_mode": {
    "name": "ipython",
    "version": 3
   },
   "file_extension": ".py",
   "mimetype": "text/x-python",
   "name": "python",
   "nbconvert_exporter": "python",
   "pygments_lexer": "ipython3",
   "version": "3.10.11"
  },
  "orig_nbformat": 4
 },
 "nbformat": 4,
 "nbformat_minor": 2
}
