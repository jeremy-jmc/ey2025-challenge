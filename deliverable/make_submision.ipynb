{
 "cells": [
  {
   "cell_type": "code",
   "execution_count": 1,
   "metadata": {},
   "outputs": [],
   "source": [
    "import sys\n",
    "sys.path.append('..')\n",
    "\n",
    "from baseline.utilities import *\n",
    "import yaml\n",
    "\n",
    "X_rfe = pd.read_parquet('../pipeline/data/processed/train/X_selected.parquet')\n",
    "test_file = pd.read_parquet('../pipeline/data/processed/submission/submission_data.parquet')"
   ]
  },
  {
   "cell_type": "code",
   "execution_count": 2,
   "metadata": {},
   "outputs": [],
   "source": [
    "# -----------------------------------------------------------------------------\n",
    "# Load Model\n",
    "# -----------------------------------------------------------------------------\n",
    "\n",
    "model = joblib.load('../pipeline/models/stacking.pkl')\n",
    "sc = joblib.load('../pipeline/models/scaler.pkl')"
   ]
  },
  {
   "cell_type": "code",
   "execution_count": 3,
   "metadata": {},
   "outputs": [],
   "source": [
    "# -----------------------------------------------------------------------------\n",
    "# Making Predictions\n",
    "# -----------------------------------------------------------------------------\n",
    "\n",
    "final_predictions = model.predict(sc.transform(test_file[X_rfe.columns]))\n",
    "final_prediction_series = pd.Series(final_predictions)"
   ]
  },
  {
   "cell_type": "code",
   "execution_count": 4,
   "metadata": {},
   "outputs": [],
   "source": [
    "# -----------------------------------------------------------------------------\n",
    "# Combining the results into dataframe\n",
    "# -----------------------------------------------------------------------------\n",
    "submission_df = pd.DataFrame({\n",
    "    'Longitude': test_file['Longitude'].values, \n",
    "    'Latitude':test_file['Latitude'].values, \n",
    "    'UHI Index':final_prediction_series.values\n",
    "})\n",
    "\n",
    "submission_df.to_csv(f\"../submissions/RF_ElasticNetCV_0.97409_CV10_{len(X_rfe.columns)}FT_0,01_stacking.csv\", index=False)"
   ]
  }
 ],
 "metadata": {
  "kernelspec": {
   "display_name": "Python 3",
   "language": "python",
   "name": "python3"
  },
  "language_info": {
   "codemirror_mode": {
    "name": "ipython",
    "version": 3
   },
   "file_extension": ".py",
   "mimetype": "text/x-python",
   "name": "python",
   "nbconvert_exporter": "python",
   "pygments_lexer": "ipython3",
   "version": "3.10.11"
  },
  "orig_nbformat": 4
 },
 "nbformat": 4,
 "nbformat_minor": 2
}
