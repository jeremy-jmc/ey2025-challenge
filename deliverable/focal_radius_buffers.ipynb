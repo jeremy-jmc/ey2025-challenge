{
 "cells": [
  {
   "cell_type": "code",
   "execution_count": 1,
   "metadata": {},
   "outputs": [],
   "source": [
    "import sys\n",
    "sys.path.append('..')\n",
    "\n",
    "from baseline.utilities import *\n",
    "from pandarallel import pandarallel\n",
    "import pandas as pd\n",
    "import geopandas as gpd\n",
    "import json"
   ]
  },
  {
   "cell_type": "code",
   "execution_count": 2,
   "metadata": {},
   "outputs": [
    {
     "name": "stdout",
     "output_type": "stream",
     "text": [
      "INFO: Pandarallel will run on 8 workers.\n",
      "INFO: Pandarallel will use Memory file system to transfer data between the main process and workers.\n"
     ]
    }
   ],
   "source": [
    "# -----------------------------------------------------------------------------\n",
    "# Initialization: Configure parallel processing\n",
    "# -----------------------------------------------------------------------------\n",
    "pandarallel.initialize(progress_bar=False, nb_workers=8)\n",
    "\n",
    "SENTINEL_TIFF_PATH = '../baseline/S2_sample.tiff'\n",
    "LANDSAT_TIFF_PATH = '../baseline/Landsat_LST.tiff'\n",
    "\n",
    "MODE = 'submission'  # Options: 'submission', 'train'"
   ]
  },
  {
   "cell_type": "code",
   "execution_count": 3,
   "metadata": {},
   "outputs": [
    {
     "data": {
      "application/vnd.microsoft.datawrangler.viewer.v0+json": {
       "columns": [
        {
         "name": "index",
         "rawType": "object",
         "type": "string"
        },
        {
         "name": "Longitude",
         "rawType": "float64",
         "type": "float"
        },
        {
         "name": "Latitude",
         "rawType": "float64",
         "type": "float"
        }
       ],
       "conversionMethod": "pd.DataFrame",
       "ref": "8e5e8332-b596-42ac-ae21-7246b2b92d57",
       "rows": [
        [
         "count",
         "1040.0",
         "1040.0"
        ],
        [
         "mean",
         "-73.93481594699999",
         "40.80799110083654"
        ],
        [
         "std",
         "0.028661080184420294",
         "0.023200034089829735"
        ],
        [
         "min",
         "-73.99316333",
         "40.75887667"
        ],
        [
         "25%",
         "-73.95703041499999",
         "40.7908024975"
        ],
        [
         "50%",
         "-73.9346175",
         "40.8095525"
        ],
        [
         "75%",
         "-73.910655415",
         "40.8230537525"
        ],
        [
         "max",
         "-73.87953667",
         "40.85924333"
        ]
       ],
       "shape": {
        "columns": 2,
        "rows": 8
       }
      },
      "text/html": [
       "<div>\n",
       "<style scoped>\n",
       "    .dataframe tbody tr th:only-of-type {\n",
       "        vertical-align: middle;\n",
       "    }\n",
       "\n",
       "    .dataframe tbody tr th {\n",
       "        vertical-align: top;\n",
       "    }\n",
       "\n",
       "    .dataframe thead th {\n",
       "        text-align: right;\n",
       "    }\n",
       "</style>\n",
       "<table border=\"1\" class=\"dataframe\">\n",
       "  <thead>\n",
       "    <tr style=\"text-align: right;\">\n",
       "      <th></th>\n",
       "      <th>Longitude</th>\n",
       "      <th>Latitude</th>\n",
       "    </tr>\n",
       "  </thead>\n",
       "  <tbody>\n",
       "    <tr>\n",
       "      <th>count</th>\n",
       "      <td>1040.000000</td>\n",
       "      <td>1040.000000</td>\n",
       "    </tr>\n",
       "    <tr>\n",
       "      <th>mean</th>\n",
       "      <td>-73.934816</td>\n",
       "      <td>40.807991</td>\n",
       "    </tr>\n",
       "    <tr>\n",
       "      <th>std</th>\n",
       "      <td>0.028661</td>\n",
       "      <td>0.023200</td>\n",
       "    </tr>\n",
       "    <tr>\n",
       "      <th>min</th>\n",
       "      <td>-73.993163</td>\n",
       "      <td>40.758877</td>\n",
       "    </tr>\n",
       "    <tr>\n",
       "      <th>25%</th>\n",
       "      <td>-73.957030</td>\n",
       "      <td>40.790802</td>\n",
       "    </tr>\n",
       "    <tr>\n",
       "      <th>50%</th>\n",
       "      <td>-73.934618</td>\n",
       "      <td>40.809553</td>\n",
       "    </tr>\n",
       "    <tr>\n",
       "      <th>75%</th>\n",
       "      <td>-73.910655</td>\n",
       "      <td>40.823054</td>\n",
       "    </tr>\n",
       "    <tr>\n",
       "      <th>max</th>\n",
       "      <td>-73.879537</td>\n",
       "      <td>40.859243</td>\n",
       "    </tr>\n",
       "  </tbody>\n",
       "</table>\n",
       "</div>"
      ],
      "text/plain": [
       "         Longitude     Latitude\n",
       "count  1040.000000  1040.000000\n",
       "mean    -73.934816    40.807991\n",
       "std       0.028661     0.023200\n",
       "min     -73.993163    40.758877\n",
       "25%     -73.957030    40.790802\n",
       "50%     -73.934618    40.809553\n",
       "75%     -73.910655    40.823054\n",
       "max     -73.879537    40.859243"
      ]
     },
     "metadata": {},
     "output_type": "display_data"
    }
   ],
   "source": [
    "# -----------------------------------------------------------------------------\n",
    "# Load Data: Read CSV file based on mode\n",
    "# -----------------------------------------------------------------------------\n",
    "if MODE == 'train':\n",
    "    ground_df = pd.read_csv(\"../baseline/Training_data_uhi_index.csv\")\n",
    "elif MODE == 'submission':\n",
    "    ground_df = pd.read_csv(\"../baseline/Submission_template.csv\")\n",
    "else:\n",
    "    raise ValueError(\"MODE should be either 'train' or 'submission'\")\n",
    "\n",
    "display(ground_df[['Longitude', 'Latitude']].describe())"
   ]
  },
  {
   "cell_type": "code",
   "execution_count": 16,
   "metadata": {},
   "outputs": [
    {
     "name": "stdout",
     "output_type": "stream",
     "text": [
      "GeoDataFrame shape: (1040, 4)\n"
     ]
    }
   ],
   "source": [
    "# -----------------------------------------------------------------------------\n",
    "# Data Visualization: Convert dataset to GeoDataFrame and save as GeoJSON\n",
    "# -----------------------------------------------------------------------------\n",
    "gdf = gpd.GeoDataFrame(\n",
    "    ground_df, geometry=gpd.points_from_xy(ground_df['Longitude'], ground_df['Latitude']),\n",
    "    crs='EPSG:4326'  # Latitude-Longitude coordinate reference system\n",
    ")\n",
    "gdf.to_file(f\"../pipeline/data/processed/{MODE}/ground_dataset.json\", driver='GeoJSON')\n",
    "print(\"GeoDataFrame shape:\", gdf.shape)"
   ]
  },
  {
   "cell_type": "code",
   "execution_count": 17,
   "metadata": {},
   "outputs": [
    {
     "name": "stderr",
     "output_type": "stream",
     "text": [
      "Computing bounding boxes: 100%|██████████| 16/16 [00:00<00:00, 29.78it/s]"
     ]
    },
    {
     "name": "stdout",
     "output_type": "stream",
     "text": [
      "Bounding box dataset columns: Index(['buffer_50m_bbox_4326', 'buffer_100m_bbox_4326',\n",
      "       'buffer_150m_bbox_4326', 'buffer_200m_bbox_4326',\n",
      "       'buffer_250m_bbox_4326', 'buffer_275m_bbox_4326',\n",
      "       'buffer_300m_bbox_4326', 'buffer_350m_bbox_4326',\n",
      "       'buffer_400m_bbox_4326', 'buffer_450m_bbox_4326',\n",
      "       'buffer_500m_bbox_4326', 'buffer_600m_bbox_4326',\n",
      "       'buffer_700m_bbox_4326', 'buffer_800m_bbox_4326',\n",
      "       'buffer_900m_bbox_4326', 'buffer_1000m_bbox_4326'],\n",
      "      dtype='object')\n"
     ]
    },
    {
     "name": "stderr",
     "output_type": "stream",
     "text": [
      "\n"
     ]
    }
   ],
   "source": [
    "# -----------------------------------------------------------------------------\n",
    "# Data Preprocessing: Generate geographic bounding boxes\n",
    "# -----------------------------------------------------------------------------\n",
    "\n",
    "radius_list = json.loads(open('../pipeline/data/radius_list.json', 'r').read())['radius_list']\n",
    "\n",
    "bbox_dataset = compute_geographic_bounding_boxes(ground_df[['Longitude', 'Latitude']], radius_list)\n",
    "print(\"Bounding box dataset columns:\", bbox_dataset.columns)\n",
    "\n",
    "with open('../pipeline/data/radius_list.json', 'w') as f:\n",
    "    f.write(json.dumps({\"radius_list\": radius_list}, indent=4))\n",
    "\n",
    "bbox_dataset.to_parquet(f'../pipeline/data/processed/{MODE}/bbox_dataset.parquet')\n"
   ]
  }
 ],
 "metadata": {
  "kernelspec": {
   "display_name": "Python 3",
   "language": "python",
   "name": "python3"
  },
  "language_info": {
   "codemirror_mode": {
    "name": "ipython",
    "version": 3
   },
   "file_extension": ".py",
   "mimetype": "text/x-python",
   "name": "python",
   "nbconvert_exporter": "python",
   "pygments_lexer": "ipython3",
   "version": "3.10.12"
  },
  "orig_nbformat": 4
 },
 "nbformat": 4,
 "nbformat_minor": 2
}
