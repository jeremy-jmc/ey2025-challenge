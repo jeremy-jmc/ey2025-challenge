{
 "cells": [
  {
   "cell_type": "code",
   "execution_count": null,
   "metadata": {},
   "outputs": [],
   "source": [
    "import sys\n",
    "sys.path.append('..')\n",
    "\n",
    "from baseline.utilities import *\n",
    "\n",
    "from pandarallel import pandarallel\n",
    "\n",
    "pandarallel.initialize(progress_bar=False, nb_workers=8)\n",
    "\n",
    "# -------------------------------\n",
    "# INITIAL CONFIGURATION\n",
    "# -------------------------------\n",
    "SENTINEL_TIFF_PATH = '../baseline/S2_sample.tiff' # './S2_sample_5res.tiff'\n",
    "LANDSAT_TIFF_PATH = '../baseline/Landsat_LST.tiff'\n",
    "MODE = 'train'  # 'submission' 'train'"
   ]
  },
  {
   "cell_type": "code",
   "execution_count": null,
   "metadata": {},
   "outputs": [],
   "source": [
    "# -------------------------------\n",
    "# DATA LOADING\n",
    "# -------------------------------\n",
    "\n",
    "# Load the training data from csv file and display the first few rows to inspect the data\n",
    "if MODE == 'train':\n",
    "    ground_df = pd.read_csv(\"../baseline/Training_data_uhi_index.csv\")\n",
    "elif MODE == 'submission':\n",
    "    ground_df = pd.read_csv(\"../baseline/Submission_template.csv\")\n",
    "else:\n",
    "    raise ValueError(\"MODE should be either 'train' or 'submission\")\n",
    "\n",
    "# `lower_left` and `upper_right` variables of the \"Sentinel2_GeoTIFF\" notebook\n",
    "display(ground_df[['Longitude', 'Latitude']].describe())\n",
    "\n",
    "\n",
    "radius_list = json.loads(open(\"../pipeline/data/radius_list.json\", \"r\").read())['radius_list']\n",
    "print(f\"{radius_list=}\")\n",
    "\n",
    "bbox_dataset = pd.read_parquet(f'../pipeline/data/processed/{MODE}/bbox_dataset.parquet')"
   ]
  },
  {
   "cell_type": "code",
   "execution_count": null,
   "metadata": {},
   "outputs": [],
   "source": [
    "# -----------------------------------------------------------------------------\n",
    "# Feature Engineering: Extract features from the bounding boxes extracted above using Sentinel 2 TIFF\n",
    "# -----------------------------------------------------------------------------\n",
    "\n",
    "sentinel_features_df = bbox_dataset.copy()\n",
    "\n",
    "sentinel_data = rxr.open_rasterio(SENTINEL_TIFF_PATH)\n",
    "\n",
    "for r in radius_list:\n",
    "    sentinel_features_df[f'sntnl_buffer_{r}m_selection'] = sentinel_features_df[f'buffer_{r}m_bbox_4326'].parallel_apply(\n",
    "        lambda bbox: get_bbox_selection(SENTINEL_TIFF_PATH, bbox)\n",
    "    )\n",
    "    sentinel_features_df = sentinel_features_df.drop(columns=[f'buffer_{r}m_bbox_4326'])\n",
    "\n",
    "sentinel_focal_radius_ft = []\n",
    "\n",
    "for r in radius_list:\n",
    "    for b in sentinel_data.band.to_numpy():\n",
    "        print(f\"{r=}, {b=}\")\n",
    "        sentinel_features_df[f'sntnl_buffer_band_{b}_{r}_mean'] = sentinel_features_df[f'sntnl_buffer_{r}m_selection'].parallel_apply(\n",
    "            lambda patch: np.nanmean(patch.sel(band=b))\n",
    "        )\n",
    "        sentinel_features_df[f'sntnl_buffer_band_{b}_{r}_std'] = sentinel_features_df[f'sntnl_buffer_{r}m_selection'].parallel_apply(\n",
    "            lambda patch: np.nanstd(patch.sel(band=b))\n",
    "        )\n",
    "        sentinel_focal_radius_ft.extend([f'sntnl_buffer_band_{b}_{r}_mean', f'sntnl_buffer_band_{b}_{r}_std'])\n",
    "\n",
    "display(sentinel_features_df[sentinel_focal_radius_ft].head())"
   ]
  },
  {
   "cell_type": "code",
   "execution_count": null,
   "metadata": {},
   "outputs": [],
   "source": [
    "# -------------------------------\n",
    "# DATA SAVING\n",
    "# -------------------------------\n",
    "\n",
    "sentinel_features_df[sentinel_focal_radius_ft].to_parquet(f'../pipeline/data/processed/{MODE}/sentinel2_focal_buffers_bands.parquet')"
   ]
  }
 ],
 "metadata": {
  "language_info": {
   "name": "python"
  },
  "orig_nbformat": 4
 },
 "nbformat": 4,
 "nbformat_minor": 2
}
